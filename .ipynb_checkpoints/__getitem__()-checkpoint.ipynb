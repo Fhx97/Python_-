{
 "cells": [
  {
   "cell_type": "code",
   "execution_count": 2,
   "id": "c7b5be8e",
   "metadata": {},
   "outputs": [
    {
     "data": {
      "text/plain": [
       "1"
      ]
     },
     "execution_count": 2,
     "metadata": {},
     "output_type": "execute_result"
    }
   ],
   "source": [
    "# 要实现list作用，需要__getitem__()方法\n",
    "class Fib(object):\n",
    "    \n",
    "    def __getitem__(self,n):\n",
    "        return n * n\n",
    "fib = Fib()\n",
    "fib[1]"
   ]
  },
  {
   "cell_type": "code",
   "execution_count": 3,
   "id": "3638bb5d",
   "metadata": {},
   "outputs": [
    {
     "data": {
      "text/plain": [
       "4"
      ]
     },
     "execution_count": 3,
     "metadata": {},
     "output_type": "execute_result"
    }
   ],
   "source": [
    "fib[2]"
   ]
  },
  {
   "cell_type": "code",
   "execution_count": 9,
   "id": "62bfcb03",
   "metadata": {},
   "outputs": [
    {
     "data": {
      "text/plain": [
       "1"
      ]
     },
     "execution_count": 9,
     "metadata": {},
     "output_type": "execute_result"
    }
   ],
   "source": [
    "# 斐波拉契数列实现\n",
    "class Fib_1(object):\n",
    "    def __getitem__(self,n):\n",
    "        a,b = 1,1\n",
    "        for x in range(n):\n",
    "            a,b = b,a+b\n",
    "        return a\n",
    "h = Fib_1()\n",
    "h[0]"
   ]
  },
  {
   "cell_type": "code",
   "execution_count": 10,
   "id": "9dd987a9",
   "metadata": {},
   "outputs": [
    {
     "data": {
      "text/plain": [
       "573147844013817084101"
      ]
     },
     "execution_count": 10,
     "metadata": {},
     "output_type": "execute_result"
    }
   ],
   "source": [
    "h[100]"
   ]
  },
  {
   "cell_type": "code",
   "execution_count": 12,
   "id": "fe3d796c",
   "metadata": {},
   "outputs": [],
   "source": [
    "class Fib_2(object):\n",
    "    \n",
    "    def __getitem__(self,n):\n",
    "        \n",
    "        if isinstance(n,int): # n是索引列\n",
    "            a,b = 1,1\n",
    "            for x in range(n):\n",
    "                a,b = b,a+b\n",
    "                return a\n",
    "        \n",
    "        if isinstance(n,slice):# n是切片\n",
    "            start = n.start\n",
    "            stop = n.stop\n",
    "            if start is None:\n",
    "                start = 0\n",
    "            a,b = 1,1\n",
    "            L=[]\n",
    "            \n",
    "            for x in range(stop):\n",
    "                if x >= start:\n",
    "                    L.append(a)\n",
    "                a,b = b,a+b\n",
    "            return L"
   ]
  },
  {
   "cell_type": "code",
   "execution_count": 18,
   "id": "20649c68",
   "metadata": {},
   "outputs": [],
   "source": [
    "fx = Fib_2()\n"
   ]
  },
  {
   "cell_type": "code",
   "execution_count": 19,
   "id": "42222594",
   "metadata": {},
   "outputs": [
    {
     "data": {
      "text/plain": [
       "[1, 1, 2, 3, 5]"
      ]
     },
     "execution_count": 19,
     "metadata": {},
     "output_type": "execute_result"
    }
   ],
   "source": [
    "fx[0:5]"
   ]
  },
  {
   "cell_type": "markdown",
   "id": "d9e0f6bb",
   "metadata": {},
   "source": [
    "如把对象看成dict，__getitem__()的参数则可以看作key的object（比如str）。  \n",
    "\n",
    "与之对应__setitem__()方法把对象视作list或dict来对集合赋值。  \n",
    "\n",
    "最后，__delitem__()方法，用于删除某个元素。\n"
   ]
  }
 ],
 "metadata": {
  "kernelspec": {
   "display_name": "Python 3 (ipykernel)",
   "language": "python",
   "name": "python3"
  },
  "language_info": {
   "codemirror_mode": {
    "name": "ipython",
    "version": 3
   },
   "file_extension": ".py",
   "mimetype": "text/x-python",
   "name": "python",
   "nbconvert_exporter": "python",
   "pygments_lexer": "ipython3",
   "version": "3.10.9"
  }
 },
 "nbformat": 4,
 "nbformat_minor": 5
}
