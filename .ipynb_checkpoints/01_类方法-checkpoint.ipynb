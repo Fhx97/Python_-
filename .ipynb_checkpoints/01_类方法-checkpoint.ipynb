{
 "cells": [
  {
   "cell_type": "code",
   "execution_count": 3,
   "id": "b88fbfd1",
   "metadata": {},
   "outputs": [],
   "source": [
    "# 先定义一个时间类\n",
    "class Data_test(object):\n",
    "    def __init__(self,year=0,month=0,day=0):\n",
    "        self.day = day\n",
    "        self.month = month\n",
    "        self.year = year\n",
    "\n",
    "    def out_date(self):\n",
    "        print(\"year:\",self.year)\n",
    "        print(\"month:\",self.month)\n",
    "        print(\"day:\",self.day)"
   ]
  },
  {
   "cell_type": "code",
   "execution_count": 4,
   "id": "dfc25387",
   "metadata": {},
   "outputs": [
    {
     "name": "stdout",
     "output_type": "stream",
     "text": [
      "year: 2023-05-20\n",
      "month: 0\n",
      "day: 0\n"
     ]
    }
   ],
   "source": [
    "# 实例化一个Data_test对象，然后再调用out_date()方法\n",
    "r = Data_test.(\"2023-05-20\")\n",
    "r.out_date()"
   ]
  },
  {
   "cell_type": "code",
   "execution_count": 5,
   "id": "0bfedb64",
   "metadata": {},
   "outputs": [],
   "source": [
    "# 应用场景：用户输入的是字符串，让它具有分割处理字符串的功能，才能实现我们的需求。\n",
    "\n",
    "# 如果我们不改动out_date()函数的前提下，解决办法是用 @classmethod（类方法）来给类增加一个处理字符串的函数。\n",
    "\n",
    "class Data_test(object):\n",
    "    \n",
    "    def __init__(self, year=0, month=0, day=0):\n",
    "        self.day=day\n",
    "        self.month=month\n",
    "        self.year=year\n",
    "\n",
    "#  输入一个字符串作为参数，根据该字符串得到 year, month, day 的值\n",
    "#  根据这些值实例化一个 Data_test 对象，并返回\n",
    "#  这里第一个参数是cls， 表示调用当前的类名   \n",
    "    @classmethod\n",
    "    def get_date(cls,data_as_string):\n",
    "        year,month,day = map(int,data_as_string.split('-'))\n",
    "        \n",
    "        # 实例化一个 Data_test 对象\n",
    "        date = cls(year,month,day)\n",
    "        \n",
    "        # 返回的是一个实例化后的类\n",
    "        return date\n",
    "    \n",
    "    \n",
    "    \n",
    "    def out_date(self):\n",
    "        print(\"year:\", self.year)\n",
    "        print(\"month:\", self.month)\n",
    "        print(\"day:\", self.day)\n"
   ]
  },
  {
   "cell_type": "code",
   "execution_count": 9,
   "id": "b8141a78",
   "metadata": {},
   "outputs": [
    {
     "name": "stdout",
     "output_type": "stream",
     "text": [
      "year: 2023\n",
      "month: 5\n",
      "day: 20\n"
     ]
    }
   ],
   "source": [
    "t = Data_test.get_date(\"2023-05-20\")\n",
    "t.out_date()\n",
    "# 调用类方法的格式是：类名.类方法()，不需要先实例化。"
   ]
  },
  {
   "cell_type": "code",
   "execution_count": 13,
   "id": "fb3aa4a5",
   "metadata": {},
   "outputs": [],
   "source": [
    "# 静态方法 @staticmethod\n",
    "\n",
    "class Data_test(object):\n",
    "    \n",
    "    def __init__(self, year=0, month=0, day=0):\n",
    "        self.day=day\n",
    "        self.month=month\n",
    "        self.year=year\n",
    "\n",
    "    # 与类方法的区别在于，静态方法不需要 cls 参数\n",
    "    @staticmethod\n",
    "    def get_date_static(data_as_string):\n",
    "        year, month, day = map(int, data_as_string.split('-'))\n",
    "        return year, month, day\n",
    "    \n",
    "    def out_date(self):\n",
    "        print(\"year:\", self.year)\n",
    "        print(\"month:\", self.month)\n",
    "        print(\"day:\", self.day)"
   ]
  },
  {
   "cell_type": "code",
   "execution_count": 15,
   "id": "76a7e59a",
   "metadata": {},
   "outputs": [
    {
     "name": "stdout",
     "output_type": "stream",
     "text": [
      "year: 2023\n",
      "month: 5\n",
      "day: 20\n"
     ]
    }
   ],
   "source": [
    "# 调用静态方法的格式也是：类名.类方法()，不需要先实例化。\n",
    "d = Data_test.get_date_static(\"2023-05-20\")\n",
    "s = Data_test(*d)\n",
    "s.out_date()"
   ]
  }
 ],
 "metadata": {
  "kernelspec": {
   "display_name": "Python 3 (ipykernel)",
   "language": "python",
   "name": "python3"
  },
  "language_info": {
   "codemirror_mode": {
    "name": "ipython",
    "version": 3
   },
   "file_extension": ".py",
   "mimetype": "text/x-python",
   "name": "python",
   "nbconvert_exporter": "python",
   "pygments_lexer": "ipython3",
   "version": "3.10.9"
  }
 },
 "nbformat": 4,
 "nbformat_minor": 5
}
