{
 "cells": [
  {
   "cell_type": "markdown",
   "id": "62e4ac9d",
   "metadata": {},
   "source": [
    " https://pycoders-weekly-chinese.readthedocs.io/en/latest/issue6/a-guide-to-pythons-magic-methods.html\n",
    "\n",
    " https://rszalski.github.io/magicmethods/\n",
    "\n",
    " https://www.cnblogs.com/zhouyixian/p/11129347.html"
   ]
  }
 ],
 "metadata": {
  "kernelspec": {
   "display_name": "Python 3 (ipykernel)",
   "language": "python",
   "name": "python3"
  },
  "language_info": {
   "codemirror_mode": {
    "name": "ipython",
    "version": 3
   },
   "file_extension": ".py",
   "mimetype": "text/x-python",
   "name": "python",
   "nbconvert_exporter": "python",
   "pygments_lexer": "ipython3",
   "version": "3.10.9"
  }
 },
 "nbformat": 4,
 "nbformat_minor": 5
}
