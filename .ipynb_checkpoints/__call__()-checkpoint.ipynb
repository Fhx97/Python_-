{
 "cells": [
  {
   "cell_type": "code",
   "execution_count": 3,
   "id": "5a0a5ccc",
   "metadata": {},
   "outputs": [],
   "source": [
    "# instance.method()调用实例方法。 \n",
    "\n",
    "# 任何类，只需要定义一个__call__()方法，就可以直接对实例进行调用。\n",
    "\n",
    "class Student(object):\n",
    "    \n",
    "    def __init__(self,name):\n",
    "        self.name = name\n",
    "        \n",
    "    def __call__(self):\n",
    "        print(f'你好啊，{self.name}!')\n"
   ]
  },
  {
   "cell_type": "code",
   "execution_count": 4,
   "id": "d22d350b",
   "metadata": {},
   "outputs": [
    {
     "name": "stdout",
     "output_type": "stream",
     "text": [
      "你好啊，丰小帅!\n"
     ]
    }
   ],
   "source": [
    "test = Student('丰小帅')\n",
    "test()"
   ]
  },
  {
   "cell_type": "markdown",
   "id": "58f2c4ba",
   "metadata": {},
   "source": [
    "__call__()可定义参数。  \n",
    "\n",
    "对实例进行直接调用就好比对一个函数进行调用一样，所以你完全可以把对象看成函数，把函数看成对象，因为在 Python 里函数就是一个对象。 \n",
    "\n",
    "如果你把对象看成函数，那么函数本身其实也可以在运行期动态创建出来，因为类的实例都是运行期创建出来的，这么一来，我们就模糊了对象和函数的界限。  \n",
    "判断一个对象是否能被调用，能被调用的对象就是一个Callable对象，比如函数和我们上面定义的带有__call__()的类实例。"
   ]
  },
  {
   "cell_type": "code",
   "execution_count": 6,
   "id": "eba3a424",
   "metadata": {},
   "outputs": [
    {
     "data": {
      "text/plain": [
       "True"
      ]
     },
     "execution_count": 6,
     "metadata": {},
     "output_type": "execute_result"
    }
   ],
   "source": [
    "通过callable()函数，可判断一个对象是否能被调用。\n",
    "callable(max)"
   ]
  },
  {
   "cell_type": "code",
   "execution_count": 7,
   "id": "b76d67b1",
   "metadata": {},
   "outputs": [
    {
     "data": {
      "text/plain": [
       "False"
      ]
     },
     "execution_count": 7,
     "metadata": {},
     "output_type": "execute_result"
    }
   ],
   "source": [
    "callable(None)"
   ]
  },
  {
   "cell_type": "code",
   "execution_count": 8,
   "id": "9c5e50ee",
   "metadata": {},
   "outputs": [
    {
     "data": {
      "text/plain": [
       "False"
      ]
     },
     "execution_count": 8,
     "metadata": {},
     "output_type": "execute_result"
    }
   ],
   "source": [
    "callable('str')"
   ]
  },
  {
   "cell_type": "code",
   "execution_count": 10,
   "id": "aa66738a",
   "metadata": {},
   "outputs": [
    {
     "data": {
      "text/plain": [
       "True"
      ]
     },
     "execution_count": 10,
     "metadata": {},
     "output_type": "execute_result"
    }
   ],
   "source": [
    "callable(Student('丰小帅'))"
   ]
  }
 ],
 "metadata": {
  "kernelspec": {
   "display_name": "Python 3 (ipykernel)",
   "language": "python",
   "name": "python3"
  },
  "language_info": {
   "codemirror_mode": {
    "name": "ipython",
    "version": 3
   },
   "file_extension": ".py",
   "mimetype": "text/x-python",
   "name": "python",
   "nbconvert_exporter": "python",
   "pygments_lexer": "ipython3",
   "version": "3.10.9"
  }
 },
 "nbformat": 4,
 "nbformat_minor": 5
}
