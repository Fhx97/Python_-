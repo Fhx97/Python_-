{
 "cells": [
  {
   "cell_type": "code",
   "execution_count": 1,
   "id": "68784f20",
   "metadata": {},
   "outputs": [],
   "source": [
    "# 正常情况下，当我们调用类的方法或属性时，如果不存在，就会报错。\n",
    "\n",
    "# Python 有一个机制，那就是__getattr__()方法，可以动态返回一个属性来处理那些不存在的属性和方法。\n",
    "class Student(object):\n",
    "    \n",
    "    def __init__(self,name):\n",
    "        self.name = name\n",
    "    \n",
    "    def __getattr__(self,attr):\n",
    "        if attr == 'score':\n",
    "            return \"不好说！\"\n",
    "        else:\n",
    "            return \"换一个试试！\"\n"
   ]
  },
  {
   "cell_type": "code",
   "execution_count": 2,
   "id": "0d8e346b",
   "metadata": {},
   "outputs": [
    {
     "data": {
      "text/plain": [
       "'fhx'"
      ]
     },
     "execution_count": 2,
     "metadata": {},
     "output_type": "execute_result"
    }
   ],
   "source": [
    "test = Student('fhx')\n",
    "test.name"
   ]
  },
  {
   "cell_type": "code",
   "execution_count": 3,
   "id": "f2488816",
   "metadata": {},
   "outputs": [
    {
     "data": {
      "text/plain": [
       "'不好说！'"
      ]
     },
     "execution_count": 3,
     "metadata": {},
     "output_type": "execute_result"
    }
   ],
   "source": [
    "test.score"
   ]
  },
  {
   "cell_type": "code",
   "execution_count": 4,
   "id": "cbbbc0f3",
   "metadata": {},
   "outputs": [
    {
     "data": {
      "text/plain": [
       "'换一个试试！'"
      ]
     },
     "execution_count": 4,
     "metadata": {},
     "output_type": "execute_result"
    }
   ],
   "source": [
    "test.age"
   ]
  },
  {
   "cell_type": "code",
   "execution_count": 13,
   "id": "9dd3223f",
   "metadata": {},
   "outputs": [],
   "source": [
    "class Student_1(object):\n",
    "\n",
    "    def __init__(self, name):\n",
    "        self.name = name\n",
    "\n",
    "    def __getattr__(self, attr):\n",
    "        if attr == 'fx':\n",
    "            return lambda attr : f'{self.name}: Hello! {attr}'"
   ]
  },
  {
   "cell_type": "code",
   "execution_count": 14,
   "id": "0ad1d262",
   "metadata": {},
   "outputs": [
    {
     "data": {
      "text/plain": [
       "'丰小帅: Hello! EveryDay'"
      ]
     },
     "execution_count": 14,
     "metadata": {},
     "output_type": "execute_result"
    }
   ],
   "source": [
    "x = Student_1('丰小帅')\n",
    "x.fx('EveryDay')"
   ]
  },
  {
   "cell_type": "markdown",
   "id": "c951b479",
   "metadata": {},
   "source": [
    "注意，只有在没有找到属性的情况下，才调用__getattr__，已有的属性，比如name则不会在__getattr__中查找。  \n",
    "\n",
    "当__getattr__中没有定义时，默认返回<class 'NoneType'>。"
   ]
  }
 ],
 "metadata": {
  "kernelspec": {
   "display_name": "Python 3 (ipykernel)",
   "language": "python",
   "name": "python3"
  },
  "language_info": {
   "codemirror_mode": {
    "name": "ipython",
    "version": 3
   },
   "file_extension": ".py",
   "mimetype": "text/x-python",
   "name": "python",
   "nbconvert_exporter": "python",
   "pygments_lexer": "ipython3",
   "version": "3.10.9"
  }
 },
 "nbformat": 4,
 "nbformat_minor": 5
}
