{
 "cells": [
  {
   "cell_type": "code",
   "execution_count": 1,
   "id": "90e995d3",
   "metadata": {},
   "outputs": [],
   "source": [
    "# 为了达到限制的目的，__slots__变量用来限制class类实例能添加的属性\n",
    "\n",
    "class Student(object):\n",
    "    \n",
    "    __slots__ = ('name','score')\n",
    "    \n",
    "    def __init__(self,name,score):\n",
    "        self.name = name\n",
    "        self.score = score"
   ]
  },
  {
   "cell_type": "code",
   "execution_count": 5,
   "id": "8b122d2b",
   "metadata": {},
   "outputs": [
    {
     "data": {
      "text/plain": [
       "'丰小帅'"
      ]
     },
     "execution_count": 5,
     "metadata": {},
     "output_type": "execute_result"
    }
   ],
   "source": [
    "test = Student('丰小帅','99')\n",
    "test.name"
   ]
  },
  {
   "cell_type": "code",
   "execution_count": 7,
   "id": "5c8415cb",
   "metadata": {},
   "outputs": [
    {
     "ename": "AttributeError",
     "evalue": "'Student' object has no attribute 'age'",
     "output_type": "error",
     "traceback": [
      "\u001b[1;31m---------------------------------------------------------------------------\u001b[0m",
      "\u001b[1;31mAttributeError\u001b[0m                            Traceback (most recent call last)",
      "Cell \u001b[1;32mIn[7], line 1\u001b[0m\n\u001b[1;32m----> 1\u001b[0m test\u001b[38;5;241m.\u001b[39mage \u001b[38;5;241m=\u001b[39m \u001b[38;5;241m25\u001b[39m\n",
      "\u001b[1;31mAttributeError\u001b[0m: 'Student' object has no attribute 'age'"
     ]
    }
   ],
   "source": [
    "# 由于__slots__变量没有绑定age属性试图绑定将得到AttributeError的错误。\n",
    "\n",
    "# __slots__定义的属性仅对当前类实例起作用，对继承的子类是不起作用的。\n",
    "\n",
    "# 除非在子类中也定义__slots__，这样，子类实例允许定义的属性就是自身的__slots__加上父类的__slots__。\n",
    "\n",
    "test.age = 25"
   ]
  }
 ],
 "metadata": {
  "kernelspec": {
   "display_name": "Python 3 (ipykernel)",
   "language": "python",
   "name": "python3"
  },
  "language_info": {
   "codemirror_mode": {
    "name": "ipython",
    "version": 3
   },
   "file_extension": ".py",
   "mimetype": "text/x-python",
   "name": "python",
   "nbconvert_exporter": "python",
   "pygments_lexer": "ipython3",
   "version": "3.10.9"
  }
 },
 "nbformat": 4,
 "nbformat_minor": 5
}
