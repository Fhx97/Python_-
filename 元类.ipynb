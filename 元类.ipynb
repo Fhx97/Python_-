{
 "cells": [
  {
   "cell_type": "markdown",
   "id": "3a1d6a9c",
   "metadata": {},
   "source": [
    "道生一，一生二，二生三，三生万物。\n",
    "\n",
    "- 道   即是 type\n",
    "- 一   即是 metaclass元类，或者叫类生成器）\n",
    "- 二   即是 class（类，或者叫实例生成器）\n",
    "- 三   即是 instance（实例）\n",
    "- 万物  即是 实例的各种属性与方法，我们平常使用 python 时，调用的就是它们。"
   ]
  },
  {
   "cell_type": "code",
   "execution_count": 1,
   "id": "7054bd2a",
   "metadata": {},
   "outputs": [],
   "source": [
    "# 以下是一个标准的“二生三，三生万物”的过程。\n",
    "# 创建一个 Hello 类，拥有属性 say_hello ---- 二的起源\n",
    "class Hello():\n",
    "    \n",
    "    def __init__(self,name):\n",
    "        self.name = name\n",
    "    def say_hello(self):\n",
    "        print(f'Hello,{self.name}')\n"
   ]
  },
  {
   "cell_type": "code",
   "execution_count": 3,
   "id": "415906f5",
   "metadata": {},
   "outputs": [],
   "source": [
    "# 从 Hello 类创建一个实例 hello ---- 二生三\n",
    "hello = Hello('丰小帅')"
   ]
  },
  {
   "cell_type": "code",
   "execution_count": 4,
   "id": "0f12c9d5",
   "metadata": {},
   "outputs": [
    {
     "name": "stdout",
     "output_type": "stream",
     "text": [
      "Hello,丰小帅\n"
     ]
    }
   ],
   "source": [
    "# 使用 hello 调用方法 say_hello ----三生万物\n",
    "hello.say_hello()"
   ]
  },
  {
   "cell_type": "markdown",
   "id": "3a810e7b",
   "metadata": {},
   "source": [
    "type可以直接生成类（class），但也可以先生成元类（metaclass），再使用元类批量定制类（class）。  \n",
    "一般来说，元类均被命名后缀为Metalass。"
   ]
  },
  {
   "cell_type": "code",
   "execution_count": 5,
   "id": "c27d7921",
   "metadata": {},
   "outputs": [],
   "source": [
    "# 元类是由type衍生而出，所以父类需要传入type。【道生一，所以一必须包含道】\n",
    "class SayMetaClass(type):    \n",
    "    # 元类的操作都在__new__中完成，第一个参数（cls）是将创建的类，\n",
    "    # 之后的参数即是三大永恒命题：我是谁，我从哪里来，我将到哪里去。 它返回的对象也是三大永恒命题，接下来，这三个参数将一直陪伴我们。\n",
    "    def __new__(cls,name,bases,attrs):\n",
    "        # attrs本身是一个空字典，name是我们创建类时候的类名，它跟据类的名字，创建了一个类方法。\n",
    "        # 例如我们由元类创建的类叫Hello，那创建时就自动有了一个叫say_Hello的类方法，然后这个方法名是字典的key。\n",
    "        # 等号右边的部分，使用lambda方法把函数本身作为了字典的 value，类的名字Hello作为默认参数saying，传到了方法里面。\n",
    "        # 然后把 hello方法调用时的传参作为value传进去，最终打印出来。\n",
    "        attrs['say_'+name] = lambda self,value, saying = name : print(saying + '，' + value)\n",
    "        return type.__new__(cls,name,bases,attrs)"
   ]
  },
  {
   "cell_type": "code",
   "execution_count": 6,
   "id": "4f806834",
   "metadata": {},
   "outputs": [],
   "source": [
    "# 首先定义了使用元类SayMetaClass，类名Hello会传递给SayMetaClass`中的name参数\n",
    "# object会传给bases参数，我们没有为新的类添加属性和方法，它将会获得SayMetaClass类中attrs字典中原有的属性和方法\n",
    "class Hello(object, metaclass = SayMetaClass):\n",
    "    pass"
   ]
  },
  {
   "cell_type": "code",
   "execution_count": 7,
   "id": "7e770c38",
   "metadata": {},
   "outputs": [
    {
     "name": "stdout",
     "output_type": "stream",
     "text": [
      "Hello，丰小帅\n"
     ]
    }
   ],
   "source": [
    "hello = Hello()\n",
    "hello.say_Hello('丰小帅')"
   ]
  },
  {
   "cell_type": "code",
   "execution_count": 8,
   "id": "c778606f",
   "metadata": {},
   "outputs": [],
   "source": [
    "class GoodBye(object, metaclass = SayMetaClass):\n",
    "    pass"
   ]
  },
  {
   "cell_type": "code",
   "execution_count": 9,
   "id": "f752bb1e",
   "metadata": {},
   "outputs": [
    {
     "name": "stdout",
     "output_type": "stream",
     "text": [
      "GoodBye，丰小帅\n"
     ]
    }
   ],
   "source": [
    "goodbye = GoodBye()\n",
    "goodbye.say_GoodBye('丰小帅')"
   ]
  }
 ],
 "metadata": {
  "kernelspec": {
   "display_name": "Python 3 (ipykernel)",
   "language": "python",
   "name": "python3"
  },
  "language_info": {
   "codemirror_mode": {
    "name": "ipython",
    "version": 3
   },
   "file_extension": ".py",
   "mimetype": "text/x-python",
   "name": "python",
   "nbconvert_exporter": "python",
   "pygments_lexer": "ipython3",
   "version": "3.10.9"
  }
 },
 "nbformat": 4,
 "nbformat_minor": 5
}
