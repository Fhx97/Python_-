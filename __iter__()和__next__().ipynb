{
 "cells": [
  {
   "cell_type": "markdown",
   "id": "79a65cec",
   "metadata": {},
   "source": [
    "可迭代对象实现：for in 循环（list或tuple），其原理必须实现__iter__()方法，该方法返回一个迭代对象；  \n",
    "然后for循环会不断调用该迭代对象的__next__()方法拿到循环的下一个值，直到出现StopIteration错误时退出循环。 "
   ]
  },
  {
   "cell_type": "code",
   "execution_count": 4,
   "id": "72ce00a3",
   "metadata": {},
   "outputs": [],
   "source": [
    "class Fib(object):\n",
    "    \n",
    "    def __init__(self,max_value):\n",
    "        self.a,self.b = 0, 1 # 初始化两个计数器a,b\n",
    "        self.max_value = max_value #初始化最大值\n",
    "        \n",
    "    def __iter__(self):\n",
    "        return self # 实例本身就是迭代对象，故返回自己\n",
    "    \n",
    "    def __next__(self):\n",
    "        self.a,self.b = self.b,self.a+self.b # 计算下一个值\n",
    "        \n",
    "        if self.a > self.max_value:\n",
    "            raise StopAsyncIteration()\n",
    "            \n",
    "        return self.a # 返回下一个值"
   ]
  },
  {
   "cell_type": "code",
   "execution_count": 5,
   "id": "aa418d8c",
   "metadata": {},
   "outputs": [
    {
     "name": "stdout",
     "output_type": "stream",
     "text": [
      "1\n",
      "1\n",
      "2\n",
      "3\n",
      "5\n",
      "8\n",
      "13\n",
      "21\n",
      "34\n",
      "55\n",
      "89\n"
     ]
    },
    {
     "ename": "StopAsyncIteration",
     "evalue": "",
     "output_type": "error",
     "traceback": [
      "\u001b[1;31m---------------------------------------------------------------------------\u001b[0m",
      "\u001b[1;31mStopAsyncIteration\u001b[0m                        Traceback (most recent call last)",
      "Cell \u001b[1;32mIn[5], line 2\u001b[0m\n\u001b[0;32m      1\u001b[0m fib \u001b[38;5;241m=\u001b[39m Fib(\u001b[38;5;241m100\u001b[39m)\n\u001b[1;32m----> 2\u001b[0m \u001b[38;5;28;01mfor\u001b[39;00m i \u001b[38;5;129;01min\u001b[39;00m fib:\n\u001b[0;32m      3\u001b[0m     \u001b[38;5;28mprint\u001b[39m(i)\n",
      "Cell \u001b[1;32mIn[4], line 14\u001b[0m, in \u001b[0;36mFib.__next__\u001b[1;34m(self)\u001b[0m\n\u001b[0;32m     11\u001b[0m \u001b[38;5;28mself\u001b[39m\u001b[38;5;241m.\u001b[39ma,\u001b[38;5;28mself\u001b[39m\u001b[38;5;241m.\u001b[39mb \u001b[38;5;241m=\u001b[39m \u001b[38;5;28mself\u001b[39m\u001b[38;5;241m.\u001b[39mb,\u001b[38;5;28mself\u001b[39m\u001b[38;5;241m.\u001b[39ma\u001b[38;5;241m+\u001b[39m\u001b[38;5;28mself\u001b[39m\u001b[38;5;241m.\u001b[39mb \u001b[38;5;66;03m# 计算下一个值\u001b[39;00m\n\u001b[0;32m     13\u001b[0m \u001b[38;5;28;01mif\u001b[39;00m \u001b[38;5;28mself\u001b[39m\u001b[38;5;241m.\u001b[39ma \u001b[38;5;241m>\u001b[39m \u001b[38;5;28mself\u001b[39m\u001b[38;5;241m.\u001b[39mmax_value:\n\u001b[1;32m---> 14\u001b[0m     \u001b[38;5;28;01mraise\u001b[39;00m \u001b[38;5;167;01mStopAsyncIteration\u001b[39;00m()\n\u001b[0;32m     16\u001b[0m \u001b[38;5;28;01mreturn\u001b[39;00m \u001b[38;5;28mself\u001b[39m\u001b[38;5;241m.\u001b[39ma\n",
      "\u001b[1;31mStopAsyncIteration\u001b[0m: "
     ]
    }
   ],
   "source": [
    "fib = Fib(100)\n",
    "for i in fib:\n",
    "    print(i)"
   ]
  }
 ],
 "metadata": {
  "kernelspec": {
   "display_name": "Python 3 (ipykernel)",
   "language": "python",
   "name": "python3"
  },
  "language_info": {
   "codemirror_mode": {
    "name": "ipython",
    "version": 3
   },
   "file_extension": ".py",
   "mimetype": "text/x-python",
   "name": "python",
   "nbconvert_exporter": "python",
   "pygments_lexer": "ipython3",
   "version": "3.10.9"
  }
 },
 "nbformat": 4,
 "nbformat_minor": 5
}
