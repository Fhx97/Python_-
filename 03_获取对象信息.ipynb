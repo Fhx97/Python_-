{
 "cells": [
  {
   "cell_type": "code",
   "execution_count": 1,
   "id": "ccd17449",
   "metadata": {},
   "outputs": [
    {
     "data": {
      "text/plain": [
       "builtin_function_or_method"
      ]
     },
     "execution_count": 1,
     "metadata": {},
     "output_type": "execute_result"
    }
   ],
   "source": [
    "# type()函数使用\n",
    "type(abs)"
   ]
  },
  {
   "cell_type": "code",
   "execution_count": 3,
   "id": "6e2e79e1",
   "metadata": {},
   "outputs": [
    {
     "data": {
      "text/plain": [
       "True"
      ]
     },
     "execution_count": 3,
     "metadata": {},
     "output_type": "execute_result"
    }
   ],
   "source": [
    "type('丰小帅') == str"
   ]
  },
  {
   "cell_type": "code",
   "execution_count": 5,
   "id": "dfa6793c",
   "metadata": {},
   "outputs": [
    {
     "data": {
      "text/plain": [
       "True"
      ]
     },
     "execution_count": 5,
     "metadata": {},
     "output_type": "execute_result"
    }
   ],
   "source": [
    "# 判断一个对象是否为函数，可以使用types模块中定义的常量\n",
    "import types\n",
    "def fhx():\n",
    "    pass\n",
    "type(fhx) == types.FunctionType #普通函数"
   ]
  },
  {
   "cell_type": "code",
   "execution_count": 6,
   "id": "b9a8b6d8",
   "metadata": {},
   "outputs": [
    {
     "data": {
      "text/plain": [
       "True"
      ]
     },
     "execution_count": 6,
     "metadata": {},
     "output_type": "execute_result"
    }
   ],
   "source": [
    "type(abs)==types.BuiltinFunctionType # 内建函数"
   ]
  },
  {
   "cell_type": "code",
   "execution_count": 7,
   "id": "b24c5a74",
   "metadata": {},
   "outputs": [
    {
     "data": {
      "text/plain": [
       "True"
      ]
     },
     "execution_count": 7,
     "metadata": {},
     "output_type": "execute_result"
    }
   ],
   "source": [
    "type(lambda x: x ** 2)==types.LambdaType # lambda函数"
   ]
  },
  {
   "cell_type": "code",
   "execution_count": 8,
   "id": "677970ac",
   "metadata": {},
   "outputs": [
    {
     "data": {
      "text/plain": [
       "True"
      ]
     },
     "execution_count": 8,
     "metadata": {},
     "output_type": "execute_result"
    }
   ],
   "source": [
    "type((x for x in range(9999)))==types.GeneratorType # 迭代器"
   ]
  },
  {
   "cell_type": "code",
   "execution_count": 36,
   "id": "7672ec96",
   "metadata": {},
   "outputs": [],
   "source": [
    "# isinstance()来判断类class的继承关系\n",
    "# Student类的继承关系如下：\n",
    "\n",
    "class Student(object):\n",
    "\n",
    "    def __init__(self, name, score):\n",
    "        self.name = name\n",
    "        self.score = score\n",
    "\n",
    "    def print_score(self):\n",
    "        print(f'{self.name}:{self.score}')\n",
    "\n",
    "class HightSchoolStudent(Student):\n",
    "    pass\n",
    "\n",
    "class ClassOneStudent(HightSchoolStudent):\n",
    "    pass"
   ]
  },
  {
   "cell_type": "code",
   "execution_count": 11,
   "id": "2e6af0b2",
   "metadata": {},
   "outputs": [],
   "source": [
    "# isinstance()可用来判断某个对象是否是某种类型。先创建 3 种类型的对象：\n",
    "a = Student('a', 60)\n",
    "b = HightSchoolStudent('b', 60)\n",
    "c = ClassOneStudent('c', 60)"
   ]
  },
  {
   "cell_type": "code",
   "execution_count": 12,
   "id": "7fba774d",
   "metadata": {},
   "outputs": [
    {
     "data": {
      "text/plain": [
       "True"
      ]
     },
     "execution_count": 12,
     "metadata": {},
     "output_type": "execute_result"
    }
   ],
   "source": [
    "isinstance(c, ClassOneStudent)"
   ]
  },
  {
   "cell_type": "code",
   "execution_count": 13,
   "id": "c8cdc2b5",
   "metadata": {},
   "outputs": [
    {
     "data": {
      "text/plain": [
       "True"
      ]
     },
     "execution_count": 13,
     "metadata": {},
     "output_type": "execute_result"
    }
   ],
   "source": [
    "isinstance(c, HightSchoolStudent)"
   ]
  },
  {
   "cell_type": "code",
   "execution_count": 15,
   "id": "4f683391",
   "metadata": {},
   "outputs": [
    {
     "data": {
      "text/plain": [
       "True"
      ]
     },
     "execution_count": 15,
     "metadata": {},
     "output_type": "execute_result"
    }
   ],
   "source": [
    "isinstance(c, Student)"
   ]
  },
  {
   "cell_type": "code",
   "execution_count": 16,
   "id": "683ed346",
   "metadata": {},
   "outputs": [
    {
     "data": {
      "text/plain": [
       "False"
      ]
     },
     "execution_count": 16,
     "metadata": {},
     "output_type": "execute_result"
    }
   ],
   "source": [
    "isinstance(b, ClassOneStudent)"
   ]
  },
  {
   "cell_type": "code",
   "execution_count": 17,
   "id": "b42a9c98",
   "metadata": {},
   "outputs": [
    {
     "data": {
      "text/plain": [
       "True"
      ]
     },
     "execution_count": 17,
     "metadata": {},
     "output_type": "execute_result"
    }
   ],
   "source": [
    "# type()判断的基本类型也可以用isinstance()来判断\n",
    "isinstance('fhx', str)"
   ]
  },
  {
   "cell_type": "code",
   "execution_count": 18,
   "id": "784c5a65",
   "metadata": {},
   "outputs": [
    {
     "data": {
      "text/plain": [
       "True"
      ]
     },
     "execution_count": 18,
     "metadata": {},
     "output_type": "execute_result"
    }
   ],
   "source": [
    "# isinstance()还可以判断一个变量是否是某些类型中的一种。\n",
    "isinstance([1, 2, 3], (list, tuple))"
   ]
  },
  {
   "cell_type": "code",
   "execution_count": 37,
   "id": "c0f3cbd2",
   "metadata": {},
   "outputs": [],
   "source": [
    "bart = Student('丰小帅', 99)"
   ]
  },
  {
   "cell_type": "code",
   "execution_count": 25,
   "id": "a39d1bd9",
   "metadata": {},
   "outputs": [
    {
     "data": {
      "text/plain": [
       "True"
      ]
     },
     "execution_count": 25,
     "metadata": {},
     "output_type": "execute_result"
    }
   ],
   "source": [
    "hasattr(bart, 'name') # 是否有 name 属性"
   ]
  },
  {
   "cell_type": "code",
   "execution_count": 26,
   "id": "469bab5c",
   "metadata": {},
   "outputs": [
    {
     "data": {
      "text/plain": [
       "False"
      ]
     },
     "execution_count": 26,
     "metadata": {},
     "output_type": "execute_result"
    }
   ],
   "source": [
    "hasattr(bart, 'age') # 是否有 age属性"
   ]
  },
  {
   "cell_type": "code",
   "execution_count": 27,
   "id": "d8d2f0fc",
   "metadata": {},
   "outputs": [],
   "source": [
    "setattr(bart, 'age', 25) # 设置一个 age 属性"
   ]
  },
  {
   "cell_type": "code",
   "execution_count": 28,
   "id": "f4e0ebc5",
   "metadata": {},
   "outputs": [
    {
     "data": {
      "text/plain": [
       "25"
      ]
     },
     "execution_count": 28,
     "metadata": {},
     "output_type": "execute_result"
    }
   ],
   "source": [
    "getattr(bart, 'age') # 获取 age 属性"
   ]
  },
  {
   "cell_type": "code",
   "execution_count": 30,
   "id": "e4661a9f",
   "metadata": {},
   "outputs": [
    {
     "data": {
      "text/plain": [
       "'没有这个属性啊！'"
      ]
     },
     "execution_count": 30,
     "metadata": {},
     "output_type": "execute_result"
    }
   ],
   "source": [
    "# 可传入一个default参数，如果属性不存在，就返回默认值\n",
    "getattr(bart, 'address', '没有这个属性啊！')"
   ]
  },
  {
   "cell_type": "code",
   "execution_count": 31,
   "id": "531d2018",
   "metadata": {},
   "outputs": [
    {
     "data": {
      "text/plain": [
       "<bound method Student.print_score of <__main__.Student object at 0x000002909FDFDC30>>"
      ]
     },
     "execution_count": 31,
     "metadata": {},
     "output_type": "execute_result"
    }
   ],
   "source": [
    "# 可获得对象的方法\n",
    "getattr(bart,'print_score')"
   ]
  },
  {
   "cell_type": "code",
   "execution_count": 38,
   "id": "a98cf1b9",
   "metadata": {},
   "outputs": [
    {
     "name": "stdout",
     "output_type": "stream",
     "text": [
      "丰小帅:99\n"
     ]
    }
   ],
   "source": [
    "fx = getattr(bart,'print_score')\n",
    "fx()"
   ]
  }
 ],
 "metadata": {
  "kernelspec": {
   "display_name": "Python 3 (ipykernel)",
   "language": "python",
   "name": "python3"
  },
  "language_info": {
   "codemirror_mode": {
    "name": "ipython",
    "version": 3
   },
   "file_extension": ".py",
   "mimetype": "text/x-python",
   "name": "python",
   "nbconvert_exporter": "python",
   "pygments_lexer": "ipython3",
   "version": "3.10.9"
  }
 },
 "nbformat": 4,
 "nbformat_minor": 5
}
