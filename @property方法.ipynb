{
 "cells": [
  {
   "cell_type": "code",
   "execution_count": 1,
   "id": "94bcde48",
   "metadata": {},
   "outputs": [],
   "source": [
    "# 属性绑定时，直接暴露属性却无法检查参数。\n",
    "class Student(object):\n",
    "    \n",
    "    def __init__(self,name,score):\n",
    "        self.name = name\n",
    "        self.score = score\n",
    "    \n",
    "    @property\n",
    "    def score(self):\n",
    "        return self._score\n",
    "    \n",
    "    @score.setter\n",
    "    def score(self,value):\n",
    "        # 参数类型必须是整型\n",
    "        if not isinstance(value,int):\n",
    "            print('请输入一个整数！')\n",
    "        \n",
    "        # 参数范围\n",
    "        if value < 0 or value > 100:\n",
    "            print('请输入一个0-100的数值')\n",
    "        \n",
    "        self._score = value\n"
   ]
  },
  {
   "cell_type": "code",
   "execution_count": 2,
   "id": "ee784fd2",
   "metadata": {},
   "outputs": [],
   "source": [
    "test = Student('丰小帅',99)"
   ]
  },
  {
   "cell_type": "code",
   "execution_count": 3,
   "id": "2d88e419",
   "metadata": {},
   "outputs": [
    {
     "data": {
      "text/plain": [
       "99"
      ]
     },
     "execution_count": 3,
     "metadata": {},
     "output_type": "execute_result"
    }
   ],
   "source": [
    "test.score"
   ]
  },
  {
   "cell_type": "code",
   "execution_count": 4,
   "id": "e10795a4",
   "metadata": {},
   "outputs": [
    {
     "name": "stdout",
     "output_type": "stream",
     "text": [
      "请输入一个0-100的数值\n"
     ]
    }
   ],
   "source": [
    "test.score = 108"
   ]
  },
  {
   "cell_type": "markdown",
   "id": "55820028",
   "metadata": {},
   "source": [
    "加上@property可以把一个getter方法变成属性\n",
    "\n",
    "而 @property本身又创建了另一个装饰器@score.setter\n",
    "\n",
    "负责把一个setter方法变成属性赋值"
   ]
  }
 ],
 "metadata": {
  "kernelspec": {
   "display_name": "Python 3 (ipykernel)",
   "language": "python",
   "name": "python3"
  },
  "language_info": {
   "codemirror_mode": {
    "name": "ipython",
    "version": 3
   },
   "file_extension": ".py",
   "mimetype": "text/x-python",
   "name": "python",
   "nbconvert_exporter": "python",
   "pygments_lexer": "ipython3",
   "version": "3.10.9"
  }
 },
 "nbformat": 4,
 "nbformat_minor": 5
}
