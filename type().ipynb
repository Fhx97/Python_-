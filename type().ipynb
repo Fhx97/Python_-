{
 "cells": [
  {
   "cell_type": "code",
   "execution_count": 10,
   "id": "c880a72c",
   "metadata": {},
   "outputs": [],
   "source": [
    "# 动态语言和静态语言最大的不同，就是函数和类的定义，不是编译时定义的，而是运行时动态创建的。\n",
    "class Hello(object):\n",
    "    \n",
    "    def __init__(self,name):\n",
    "        self.name = name\n",
    "    \n",
    "    def hello(self):\n",
    "        print(f'Hello,{self.name}！')"
   ]
  },
  {
   "cell_type": "code",
   "execution_count": 11,
   "id": "48ec3c98",
   "metadata": {},
   "outputs": [
    {
     "name": "stdout",
     "output_type": "stream",
     "text": [
      "Hello,丰小帅！\n"
     ]
    }
   ],
   "source": [
    "h = Hello('丰小帅')\n",
    "h.hello()"
   ]
  },
  {
   "cell_type": "code",
   "execution_count": 12,
   "id": "38321c42",
   "metadata": {},
   "outputs": [
    {
     "data": {
      "text/plain": [
       "__main__.Hello"
      ]
     },
     "execution_count": 12,
     "metadata": {},
     "output_type": "execute_result"
    }
   ],
   "source": [
    "# type()函数可以查看一个类或变量的类型，Hello是一个class，它的类型就是 type，而h是一个实例，它的类型就是 __main__.Hello。\n",
    "type(h)"
   ]
  },
  {
   "cell_type": "code",
   "execution_count": 13,
   "id": "d6ff4baa",
   "metadata": {},
   "outputs": [
    {
     "data": {
      "text/plain": [
       "type"
      ]
     },
     "execution_count": 13,
     "metadata": {},
     "output_type": "execute_result"
    }
   ],
   "source": [
    "# class的定义是运行时动态创建的，而创建class的方法就是使用type()函数。\n",
    "type(Hello)"
   ]
  },
  {
   "cell_type": "code",
   "execution_count": 14,
   "id": "a8746b70",
   "metadata": {},
   "outputs": [],
   "source": [
    "# type()函数既可返回一个对象的类型，又可以创建出新的类型。  \n",
    "\n",
    "# 可以通过type()函数创建出Hello类，而无需通过class Hello(object)的类定义方法 。\n",
    "\n",
    "# 要创建一个class对象，type()函数依次传入 3 个参数：\n",
    "\n",
    "# 'Hello' 是类名称。\n",
    "# (object,)继承的父类集合，注意 Python 支持多重继承，如果只有一个父类（tuple的单元素写法）。\n",
    "# dict(hello=func)是class类的方法名称与函数绑定（。\n",
    "\n",
    "# 通过type()函数创建的类和直接写class是完全一样的，因为 Python 解释器遇到class定义时，\n",
    "# 仅仅是扫描一下class定义的语法，然后调用type()函数创建出 class。\n",
    "\n",
    "def func(self,name):\n",
    "    print(f'Hello,{name}!')\n",
    "\n",
    "Hello = type('Hello',(object,),dict(hello=func)) # 创建 Hello class"
   ]
  },
  {
   "cell_type": "code",
   "execution_count": 16,
   "id": "a700773e",
   "metadata": {},
   "outputs": [
    {
     "name": "stdout",
     "output_type": "stream",
     "text": [
      "Hello,丰小帅!\n"
     ]
    }
   ],
   "source": [
    "x = Hello()\n",
    "x.hello('丰小帅')"
   ]
  },
  {
   "cell_type": "code",
   "execution_count": 17,
   "id": "d7626c66",
   "metadata": {},
   "outputs": [
    {
     "data": {
      "text/plain": [
       "type"
      ]
     },
     "execution_count": 17,
     "metadata": {},
     "output_type": "execute_result"
    }
   ],
   "source": [
    "type(Hello)"
   ]
  },
  {
   "cell_type": "markdown",
   "id": "68d92d76",
   "metadata": {},
   "source": [
    "正常情况下，我们都用class来定义类，但type()函数也允许我们动态创建出类来。  \n",
    "换言之，动态语言本身支持运行期动态创建类，这和静态语言有非常大的不同，要在静态语言运行期创建类，必须构造源代码字符串再调用编译器，或者借助一些工具生成字节码实现，本质上都是动态编译，会非常复杂。"
   ]
  }
 ],
 "metadata": {
  "kernelspec": {
   "display_name": "Python 3 (ipykernel)",
   "language": "python",
   "name": "python3"
  },
  "language_info": {
   "codemirror_mode": {
    "name": "ipython",
    "version": 3
   },
   "file_extension": ".py",
   "mimetype": "text/x-python",
   "name": "python",
   "nbconvert_exporter": "python",
   "pygments_lexer": "ipython3",
   "version": "3.10.9"
  }
 },
 "nbformat": 4,
 "nbformat_minor": 5
}
