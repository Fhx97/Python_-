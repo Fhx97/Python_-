{
 "cells": [
  {
   "cell_type": "code",
   "execution_count": 1,
   "id": "78e09c58",
   "metadata": {},
   "outputs": [],
   "source": [
    "class Student(object):\n",
    "    \n",
    "    def __init__(self,name,score):\n",
    "        self.name = name\n",
    "        self.score = score\n",
    "        \n",
    "    def print_score(self):\n",
    "        print(f'{self.name}:{self.score}')"
   ]
  },
  {
   "cell_type": "code",
   "execution_count": 2,
   "id": "be740d7f",
   "metadata": {},
   "outputs": [
    {
     "name": "stdout",
     "output_type": "stream",
     "text": [
      "丰小帅:99\n"
     ]
    }
   ],
   "source": [
    "the_one = Student('丰小帅', 99)\n",
    "the_one.print_score()"
   ]
  },
  {
   "cell_type": "code",
   "execution_count": 3,
   "id": "4c3f1670",
   "metadata": {},
   "outputs": [
    {
     "data": {
      "text/plain": [
       "'丰小帅'"
      ]
     },
     "execution_count": 3,
     "metadata": {},
     "output_type": "execute_result"
    }
   ],
   "source": [
    "the_one.name"
   ]
  },
  {
   "cell_type": "code",
   "execution_count": 4,
   "id": "f82d4d7c",
   "metadata": {},
   "outputs": [
    {
     "data": {
      "text/plain": [
       "99"
      ]
     },
     "execution_count": 4,
     "metadata": {},
     "output_type": "execute_result"
    }
   ],
   "source": [
    "the_one.score"
   ]
  },
  {
   "cell_type": "code",
   "execution_count": 8,
   "id": "30182f38",
   "metadata": {},
   "outputs": [],
   "source": [
    "# 如果要让类的内部属性不被外部访问，可在属性的名称前加上两个下划线 ``__``，\n",
    "# 在 Python 中，实例的变量名如果以 ``__`` 开头，就变成了一个 **私有变量**（private），只有内部可以访问，外部不能访问，\n",
    "class Student_1(object):\n",
    "    \n",
    "    def __init__(self,name,score):\n",
    "        self.__name = name\n",
    "        self.__score = score\n",
    "        \n",
    "    def print_score(self):\n",
    "        print(f'{self.__name}:{self.__score}')"
   ]
  },
  {
   "cell_type": "code",
   "execution_count": 9,
   "id": "b69314b7",
   "metadata": {},
   "outputs": [
    {
     "name": "stdout",
     "output_type": "stream",
     "text": [
      "丰收:98\n"
     ]
    }
   ],
   "source": [
    "the_two = Student_1('丰收',98)\n",
    "the_two.print_score()"
   ]
  },
  {
   "cell_type": "code",
   "execution_count": 10,
   "id": "40cb1d19",
   "metadata": {},
   "outputs": [
    {
     "ename": "AttributeError",
     "evalue": "'Student_1' object has no attribute 'name'",
     "output_type": "error",
     "traceback": [
      "\u001b[1;31m---------------------------------------------------------------------------\u001b[0m",
      "\u001b[1;31mAttributeError\u001b[0m                            Traceback (most recent call last)",
      "Cell \u001b[1;32mIn[10], line 1\u001b[0m\n\u001b[1;32m----> 1\u001b[0m \u001b[43mthe_two\u001b[49m\u001b[38;5;241;43m.\u001b[39;49m\u001b[43mname\u001b[49m\n",
      "\u001b[1;31mAttributeError\u001b[0m: 'Student_1' object has no attribute 'name'"
     ]
    }
   ],
   "source": [
    "the_two.name"
   ]
  },
  {
   "cell_type": "markdown",
   "id": "a5a72d6e",
   "metadata": {},
   "source": [
    "这样就确保了外部代码不能随意修改对象内部的状态，这样通过访问限制的保护，代码更加健壮。\n",
    "\n",
    "需要注意的是，在 Python 中，变量名类似 ``__xxx__`` 的，也就是以双下划线开头，并且以双下划线结尾的，是特殊变量，特殊变量是可以直接访问的，不是 private 变量，所以，不能用 ``__name__``、``__score__`` 这样的变量名。\n",
    "\n",
    "些时候，你会看到以一个下划线开头的实例变量名，比如 ``_name``，这样的实例变量外部是可以访问的，但是，按照约定俗成的规定，当你看到这样的变量时，意思就是，“虽然我可以被访问，但是，请把我视为私有变量，不要随意访问”。\n",
    "\n",
    "Python 本身没有任何机制阻止你干坏事，一切全靠自觉。"
   ]
  }
 ],
 "metadata": {
  "kernelspec": {
   "display_name": "Python 3 (ipykernel)",
   "language": "python",
   "name": "python3"
  },
  "language_info": {
   "codemirror_mode": {
    "name": "ipython",
    "version": 3
   },
   "file_extension": ".py",
   "mimetype": "text/x-python",
   "name": "python",
   "nbconvert_exporter": "python",
   "pygments_lexer": "ipython3",
   "version": "3.10.9"
  }
 },
 "nbformat": 4,
 "nbformat_minor": 5
}
